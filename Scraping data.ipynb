{
  "cells": [
    {
      "cell_type": "markdown",
      "id": "c88a3062",
      "metadata": {
        "execution": {
          "iopub.execute_input": "2022-04-12T22:11:12.004256Z",
          "iopub.status.busy": "2022-04-12T22:11:12.003902Z",
          "iopub.status.idle": "2022-04-12T22:11:27.884884Z",
          "shell.execute_reply": "2022-04-12T22:11:27.883525Z",
          "shell.execute_reply.started": "2022-04-12T22:11:12.004221Z"
        },
        "papermill": {
          "duration": 0.044584,
          "end_time": "2022-04-13T20:56:28.865102",
          "exception": false,
          "start_time": "2022-04-13T20:56:28.820518",
          "status": "completed"
        },
        "tags": [],
        "id": "c88a3062"
      },
      "source": [
        "## Web scraping project:\n",
        "\n",
        "**This Project has been done by : [LABRIJI SAAD](https://www.kaggle.com/saadlabriji) and [ISBAINE MOHAMED](https://www.kaggle.com/mohamedisbaine) and Supervised By: [Ikram EL ASRI](https://www.kaggle.com/ikramelasri)**\n",
        "\n",
        "In this project we aim to scrape cars data from wandaloo\n",
        "\n",
        "> Launched in May 2011 and published by the company INNOWEBB, wandaloo.com brings together all the information and help tools necessary to facilitate and carry out a transaction of sale or purchase of a new or used vehicle, a motorcycle, or an automotive accessory.\n",
        "\n",
        "> wandaloo.com is also the leading comparison site and online car-motorcycle buying guide in Morocco. With its diversified offer, it very quickly became the essential automotive reference in the Kingdom, and this allows the connection between dealers and customers wishing to acquire a new car or motorcycle.\n",
        "\n",
        "> wandaloo.com also offers auto-moto editorial content updated daily and covering all the news in Morocco and abroad. All the news, national and world premieres, events and fairs are present on wandaloo.com™ through reports, articles and essays. Everything is illustrated by the latest multimedia means.\n",
        "\n",
        "> wandaloo.com™ offers a platform for publishing classified ads for used cars, used motorcycles and automotive accessories on the Internet. Thanks to its user-friendliness, its advanced functionalities, and its powerful and precise search engine, the sale and purchase of a used vehicle has never been so easy, intuitive and targeted."
      ]
    },
    {
      "cell_type": "markdown",
      "id": "22f5b3e2",
      "metadata": {
        "papermill": {
          "duration": 0.040373,
          "end_time": "2022-04-13T20:56:28.946496",
          "exception": false,
          "start_time": "2022-04-13T20:56:28.906123",
          "status": "completed"
        },
        "tags": [],
        "id": "22f5b3e2"
      },
      "source": [
        "## **Project Structure:**\n",
        "\n",
        "**The project is divided into 3 major parts:**\n",
        "\n",
        "> **1- Scrapping data cars from the website**\n",
        "\n",
        "> **2- Preprocess the data**\n",
        "\n",
        "> **3- Build many Machine Learning models to predict cars prices**\n",
        "\n"
      ]
    },
    {
      "cell_type": "markdown",
      "id": "04fd41fa",
      "metadata": {
        "papermill": {
          "duration": 0.039451,
          "end_time": "2022-04-13T20:56:29.026194",
          "exception": false,
          "start_time": "2022-04-13T20:56:28.986743",
          "status": "completed"
        },
        "tags": [],
        "id": "04fd41fa"
      },
      "source": [
        "# **PART 1: Scrapping the data**"
      ]
    },
    {
      "cell_type": "markdown",
      "id": "1a84e6af",
      "metadata": {
        "papermill": {
          "duration": 0.040913,
          "end_time": "2022-04-13T20:56:29.108756",
          "exception": false,
          "start_time": "2022-04-13T20:56:29.067843",
          "status": "completed"
        },
        "tags": [],
        "id": "1a84e6af"
      },
      "source": [
        "**Web scraping** is the process of using bots to extract content and data from a website. Unlike screen scraping, which only copies pixels displayed onscreen, web scraping extracts underlying HTML code and, with it, data stored in a database. The scraper can then replicate entire website content elsewhere.\n",
        "\n",
        "Data is an important asset in an organisation and web scraping allows efficient extraction of this asset from various web sources. Web scraping helps in converting unstructured data into a structured one which can be further used for extracting insights.\n",
        "\n",
        "> **1| Beautiful Soup**\n",
        "\n",
        "Beautiful Soup is a Python library for pulling data out of HTML and XML files. It is mainly designed for projects like screen-scraping. This library provides simple methods and Pythonic idioms for navigating, searching, and modifying a parse tree. This tool automatically converts incoming documents to Unicode and outgoing documents to UTF-8. \n",
        "\n",
        "\n",
        "> **2| LXML**\n",
        "\n",
        "The lxml is a Python tool for C libraries libxml2 and libxslt. It is recognised as one of the feature-rich and easy-to-use libraries for processing XML and HTML in Python language. It is unique in the case that it combines the speed and XML feature of these libraries with the simplicity of a native Python API and is mostly compatible but superior to the well-known ElementTree_API. \n",
        "\n",
        "> **3| MechanicalSoup**\n",
        "\n",
        "MechanicalSoup is a Python library for automating interaction with websites. This library automatically stores and sends cookies, follows redirects and can follow links and submit forms. MechanicalSoup provides a similar API, built on Python giants Requests (for HTTP sessions) and BeautifulSoup (for document navigation). However, this tool became unmaintained for several years as it didn’t support Python 3. \n",
        "\n",
        "> **4| Python Requests**\n",
        "\n",
        "Python Requests is the only Non-GMO HTTP library for Python language. It allows the user to send HTTP/1.1 requests and there is no need to manually add query strings to your URLs, or to form-encode your POST data. There are a number of feature support such as browser-style SSL verification, automatic decompression, automatic content decoding, HTTP(S) proxy support and much more. Requests officially support Python 2.7 & 3.4–3.7 and runs on PyPy.\n",
        "\n",
        "> **5| Scrapy**\n",
        "\n",
        "Scrapy is an open-source and collaborative framework for extracting the data a user needs from websites. Written in Python language, Scrapy is a fast high-level web crawling & scraping framework for Python. It can be used for a wide range of purposes, from data mining to monitoring and automated testing. It is basically an application framework for writing web spiders that crawl web sites and extract data from them. Spiders are the classes that a user defines and Scrapy uses the Spiders to scrape information from a website (or a group of websites).\n",
        "\n",
        "> **6| Selenium**\n",
        "\n",
        "Selenium Python is an open-source web-based automation tool which provides a simple API to write functional or acceptance tests using Selenium WebDriver. Selenium is basically a set of different software tools each with a different approach to supporting test automation. The entire suite of tools results in a rich set of testing functions specifically geared to the needs of testing of web applications of all types. With the help of Selenium Python API, a user can access all functionalities of Selenium WebDriver in an intuitive way. The currently supported Python versions are 2.7, 3.5 and above. \n",
        "\n",
        "> **7| Urllib**\n",
        "\n",
        "The urllib is a Python package which can be used for opening URLs. It collects several modules for working with URLs such as urllib.request for opening and reading URLs which are mostly HTTP, urllib.error module defines the exception classes for exceptions raised by urllib.request, urllib.parse module defines a standard interface to break Uniform Resource Locator (URL) strings up in components and urllib.robotparser provides a single class, RobotFileParser, which answers questions about whether or not a particular user agent can fetch a URL on the Web site that published the robots.txt file.\n",
        "\n",
        "In our project we are going to use selenium.\n",
        "\n",
        "WebDriver is an open source framework from the Selenium that can initiate a web browser, through the respective browser’s driver server, and control various aspects of the browser including, but not limited to text input and exploratory testing. Selenium Webdriver was the first testing framework that allowed for controlling the browser at the Operating System level.\n",
        "\n",
        "![image.png](attachment:3c378387-71e7-466a-b832-b57a693fe5ad.png)\n",
        "\n"
      ]
    },
    {
      "cell_type": "markdown",
      "id": "4eb6d785",
      "metadata": {
        "papermill": {
          "duration": 0.040324,
          "end_time": "2022-04-13T20:56:29.189314",
          "exception": false,
          "start_time": "2022-04-13T20:56:29.148990",
          "status": "completed"
        },
        "tags": [],
        "id": "4eb6d785"
      },
      "source": [
        "## **Install necessary tools:**"
      ]
    },
    {
      "cell_type": "markdown",
      "id": "76bb7ea9",
      "metadata": {
        "papermill": {
          "duration": 0.039689,
          "end_time": "2022-04-13T20:56:29.269128",
          "exception": false,
          "start_time": "2022-04-13T20:56:29.229439",
          "status": "completed"
        },
        "tags": [],
        "id": "76bb7ea9"
      },
      "source": [
        "**Web scraping with selenium requires a browser on our machine, that's why we have chosen to use Google chrome browser.**\n",
        "\n",
        "1. First step is to download Chrome from official website with wget command:\n",
        "2. Unpackage the downloaded file\n",
        "3. install chrome "
      ]
    },
    {
      "cell_type": "code",
      "execution_count": null,
      "id": "38df4daf",
      "metadata": {
        "execution": {
          "iopub.execute_input": "2022-04-13T20:56:29.358842Z",
          "iopub.status.busy": "2022-04-13T20:56:29.358159Z",
          "iopub.status.idle": "2022-04-13T20:56:51.758188Z",
          "shell.execute_reply": "2022-04-13T20:56:51.757048Z"
        },
        "papermill": {
          "duration": 22.448706,
          "end_time": "2022-04-13T20:56:51.758387",
          "exception": false,
          "start_time": "2022-04-13T20:56:29.309681",
          "status": "completed"
        },
        "tags": [],
        "id": "38df4daf",
        "outputId": "80a2802c-7bb8-4792-daa4-85297a5af441"
      },
      "outputs": [
        {
          "name": "stdout",
          "output_type": "stream",
          "text": [
            "--2022-04-13 20:56:30--  https://dl.google.com/linux/chrome/deb/pool/main/g/google-chrome-stable/google-chrome-stable_94.0.4606.71-1_amd64.deb\r\n",
            "Resolving dl.google.com (dl.google.com)... 173.194.214.91, 173.194.214.190, 173.194.214.136, ...\r\n",
            "Connecting to dl.google.com (dl.google.com)|173.194.214.91|:443... connected.\r\n",
            "HTTP request sent, awaiting response... 200 OK\r\n",
            "Length: 90273096 (86M) [application/x-debian-package]\r\n",
            "Saving to: ‘google-chrome-stable_94.0.4606.71-1_amd64.deb’\r\n",
            "\r\n",
            "google-chrome-stabl 100%[===================>]  86.09M  71.7MB/s    in 1.2s    \r\n",
            "\r\n",
            "2022-04-13 20:56:31 (71.7 MB/s) - ‘google-chrome-stable_94.0.4606.71-1_amd64.deb’ saved [90273096/90273096]\r\n",
            "\r\n",
            "Selecting previously unselected package google-chrome-stable.\r\n",
            "(Reading database ... 100799 files and directories currently installed.)\r\n",
            "Preparing to unpack google-chrome-stable_94.0.4606.71-1_amd64.deb ...\r\n",
            "Unpacking google-chrome-stable (94.0.4606.71-1) ...\r\n",
            "\u001b[1mdpkg:\u001b[0m dependency problems prevent configuration of google-chrome-stable:\r\n",
            " google-chrome-stable depends on fonts-liberation; however:\r\n",
            "  Package fonts-liberation is not installed.\r\n",
            " google-chrome-stable depends on libgbm1 (>= 8.1~0); however:\r\n",
            "  Package libgbm1 is not installed.\r\n",
            "\r\n",
            "\u001b[1mdpkg:\u001b[0m error processing package google-chrome-stable (--install):\r\n",
            " dependency problems - leaving unconfigured\r\n",
            "Processing triggers for mime-support (3.64ubuntu1) ...\r\n",
            "Processing triggers for man-db (2.9.1-1) ...\r\n",
            "Errors were encountered while processing:\r\n",
            " google-chrome-stable\r\n",
            "\r\n",
            "\r\n",
            "\r\n",
            "Correcting dependencies... Done\r\n",
            "The following additional packages will be installed:\r\n",
            "  fonts-liberation libgbm1 libwayland-server0\r\n",
            "The following NEW packages will be installed:\r\n",
            "  fonts-liberation libgbm1 libwayland-server0\r\n",
            "0 upgraded, 3 newly installed, 0 to remove and 52 not upgraded.\r\n",
            "1 not fully installed or removed.\r\n",
            "Need to get 882 kB of archives.\r\n",
            "After this operation, 2395 kB of additional disk space will be used.\r\n",
            "Get:1 http://archive.ubuntu.com/ubuntu focal/main amd64 fonts-liberation all 1:1.07.4-11 [822 kB]\r\n",
            "Get:2 http://archive.ubuntu.com/ubuntu focal/main amd64 libwayland-server0 amd64 1.18.0-1 [31.6 kB]\r\n",
            "Get:3 http://archive.ubuntu.com/ubuntu focal-updates/main amd64 libgbm1 amd64 21.2.6-0ubuntu0.1~20.04.2 [29.2 kB]\r\n",
            "Fetched 882 kB in 2s (435 kB/s)\r\n",
            "Selecting previously unselected package fonts-liberation.\r\n",
            "(Reading database ... 100913 files and directories currently installed.)\r\n",
            "Preparing to unpack .../fonts-liberation_1%3a1.07.4-11_all.deb ...\r\n",
            "Unpacking fonts-liberation (1:1.07.4-11) ...\r\n",
            "Selecting previously unselected package libwayland-server0:amd64.\r\n",
            "Preparing to unpack .../libwayland-server0_1.18.0-1_amd64.deb ...\r\n",
            "Unpacking libwayland-server0:amd64 (1.18.0-1) ...\r\n",
            "Selecting previously unselected package libgbm1:amd64.\r\n",
            "Preparing to unpack .../libgbm1_21.2.6-0ubuntu0.1~20.04.2_amd64.deb ...\r\n",
            "Unpacking libgbm1:amd64 (21.2.6-0ubuntu0.1~20.04.2) ...\r\n",
            "Setting up libwayland-server0:amd64 (1.18.0-1) ...\r\n",
            "Setting up libgbm1:amd64 (21.2.6-0ubuntu0.1~20.04.2) ...\r\n",
            "Setting up fonts-liberation (1:1.07.4-11) ...\r\n",
            "Setting up google-chrome-stable (94.0.4606.71-1) ...\r\n",
            "update-alternatives: using /usr/bin/google-chrome-stable to provide /usr/bin/x-www-browser (x-www-browser) in auto mode\r\n",
            "update-alternatives: using /usr/bin/google-chrome-stable to provide /usr/bin/gnome-www-browser (gnome-www-browser) in auto mode\r\n",
            "update-alternatives: using /usr/bin/google-chrome-stable to provide /usr/bin/google-chrome (google-chrome) in auto mode\r\n",
            "Processing triggers for fontconfig (2.13.1-2ubuntu3) ...\r\n",
            "Processing triggers for libc-bin (2.31-0ubuntu9.2) ...\r\n"
          ]
        }
      ],
      "source": [
        "!wget https://dl.google.com/linux/chrome/deb/pool/main/g/google-chrome-stable/google-chrome-stable_94.0.4606.71-1_amd64.deb\n",
        "!dpkg -i google-chrome-stable_94.0.4606.71-1_amd64.deb\n",
        "!apt-get -fy install"
      ]
    },
    {
      "cell_type": "markdown",
      "id": "d1cab37d",
      "metadata": {
        "papermill": {
          "duration": 0.060463,
          "end_time": "2022-04-13T20:56:51.881979",
          "exception": false,
          "start_time": "2022-04-13T20:56:51.821516",
          "status": "completed"
        },
        "tags": [],
        "id": "d1cab37d"
      },
      "source": [
        "**Now, We will install chrome driver and selenium with the following commands**\n",
        "\n",
        "> NB: The version of the chrome driver must match the version of chrome browser"
      ]
    },
    {
      "cell_type": "code",
      "execution_count": null,
      "id": "91df2596",
      "metadata": {
        "execution": {
          "iopub.execute_input": "2022-04-13T20:56:52.010999Z",
          "iopub.status.busy": "2022-04-13T20:56:52.010215Z",
          "iopub.status.idle": "2022-04-13T20:57:21.453735Z",
          "shell.execute_reply": "2022-04-13T20:57:21.452644Z",
          "shell.execute_reply.started": "2022-04-12T22:11:27.888173Z"
        },
        "papermill": {
          "duration": 29.510091,
          "end_time": "2022-04-13T20:57:21.453962",
          "exception": false,
          "start_time": "2022-04-13T20:56:51.943871",
          "status": "completed"
        },
        "tags": [],
        "id": "91df2596",
        "outputId": "794963d9-bcb6-4e50-aa19-90613134e681"
      },
      "outputs": [
        {
          "name": "stdout",
          "output_type": "stream",
          "text": [
            "Collecting chromedriver-py==94.0.4606.41\r\n",
            "  Downloading chromedriver_py-94.0.4606.41-py3-none-any.whl (24.1 MB)\r\n",
            "     |████████████████████████████████| 24.1 MB 104 kB/s            \r\n",
            "\u001b[?25hInstalling collected packages: chromedriver-py\r\n",
            "Successfully installed chromedriver-py-94.0.4606.41\r\n",
            "\u001b[33mWARNING: Running pip as the 'root' user can result in broken permissions and conflicting behaviour with the system package manager. It is recommended to use a virtual environment instead: https://pip.pypa.io/warnings/venv\u001b[0m\r\n",
            "Collecting selenium\r\n",
            "  Downloading selenium-4.1.3-py3-none-any.whl (968 kB)\r\n",
            "     |████████████████████████████████| 968 kB 287 kB/s            \r\n",
            "\u001b[?25hRequirement already satisfied: urllib3[secure,socks]~=1.26 in /opt/conda/lib/python3.7/site-packages (from selenium) (1.26.7)\r\n",
            "Collecting trio~=0.17\r\n",
            "  Downloading trio-0.20.0-py3-none-any.whl (359 kB)\r\n",
            "     |████████████████████████████████| 359 kB 13.0 MB/s            \r\n",
            "\u001b[?25hCollecting trio-websocket~=0.9\r\n",
            "  Downloading trio_websocket-0.9.2-py3-none-any.whl (16 kB)\r\n",
            "Requirement already satisfied: attrs>=19.2.0 in /opt/conda/lib/python3.7/site-packages (from trio~=0.17->selenium) (21.2.0)\r\n",
            "Collecting outcome\r\n",
            "  Downloading outcome-1.1.0-py2.py3-none-any.whl (9.7 kB)\r\n",
            "Requirement already satisfied: sortedcontainers in /opt/conda/lib/python3.7/site-packages (from trio~=0.17->selenium) (2.4.0)\r\n",
            "Requirement already satisfied: idna in /opt/conda/lib/python3.7/site-packages (from trio~=0.17->selenium) (3.1)\r\n",
            "Requirement already satisfied: async-generator>=1.9 in /opt/conda/lib/python3.7/site-packages (from trio~=0.17->selenium) (1.10)\r\n",
            "Requirement already satisfied: sniffio in /opt/conda/lib/python3.7/site-packages (from trio~=0.17->selenium) (1.2.0)\r\n",
            "Collecting wsproto>=0.14\r\n",
            "  Downloading wsproto-1.1.0-py3-none-any.whl (24 kB)\r\n",
            "Requirement already satisfied: PySocks!=1.5.7,<2.0,>=1.5.6 in /opt/conda/lib/python3.7/site-packages (from urllib3[secure,socks]~=1.26->selenium) (1.7.1)\r\n",
            "Requirement already satisfied: pyOpenSSL>=0.14 in /opt/conda/lib/python3.7/site-packages (from urllib3[secure,socks]~=1.26->selenium) (21.0.0)\r\n",
            "Requirement already satisfied: cryptography>=1.3.4 in /opt/conda/lib/python3.7/site-packages (from urllib3[secure,socks]~=1.26->selenium) (36.0.1)\r\n",
            "Requirement already satisfied: certifi in /opt/conda/lib/python3.7/site-packages (from urllib3[secure,socks]~=1.26->selenium) (2021.10.8)\r\n",
            "Requirement already satisfied: cffi>=1.12 in /opt/conda/lib/python3.7/site-packages (from cryptography>=1.3.4->urllib3[secure,socks]~=1.26->selenium) (1.15.0)\r\n",
            "Requirement already satisfied: six>=1.5.2 in /opt/conda/lib/python3.7/site-packages (from pyOpenSSL>=0.14->urllib3[secure,socks]~=1.26->selenium) (1.16.0)\r\n",
            "Requirement already satisfied: h11<1,>=0.9.0 in /opt/conda/lib/python3.7/site-packages (from wsproto>=0.14->trio-websocket~=0.9->selenium) (0.13.0)\r\n",
            "Requirement already satisfied: pycparser in /opt/conda/lib/python3.7/site-packages (from cffi>=1.12->cryptography>=1.3.4->urllib3[secure,socks]~=1.26->selenium) (2.21)\r\n",
            "Requirement already satisfied: typing-extensions in /opt/conda/lib/python3.7/site-packages (from h11<1,>=0.9.0->wsproto>=0.14->trio-websocket~=0.9->selenium) (4.1.1)\r\n",
            "Installing collected packages: outcome, wsproto, trio, trio-websocket, selenium\r\n",
            "Successfully installed outcome-1.1.0 selenium-4.1.3 trio-0.20.0 trio-websocket-0.9.2 wsproto-1.1.0\r\n",
            "\u001b[33mWARNING: Running pip as the 'root' user can result in broken permissions and conflicting behaviour with the system package manager. It is recommended to use a virtual environment instead: https://pip.pypa.io/warnings/venv\u001b[0m\r\n"
          ]
        }
      ],
      "source": [
        "# install chromedriver and selenium\n",
        "!pip install chromedriver-py==94.0.4606.41\n",
        "!pip install selenium"
      ]
    },
    {
      "cell_type": "markdown",
      "id": "006b82af",
      "metadata": {
        "papermill": {
          "duration": 0.096655,
          "end_time": "2022-04-13T20:57:21.647328",
          "exception": false,
          "start_time": "2022-04-13T20:57:21.550673",
          "status": "completed"
        },
        "tags": [],
        "id": "006b82af"
      },
      "source": [
        "**After installing the browser, chrome driver and selenium. It's time to set our necessary packages**"
      ]
    },
    {
      "cell_type": "code",
      "execution_count": null,
      "id": "eeae0006",
      "metadata": {
        "execution": {
          "iopub.execute_input": "2022-04-13T20:57:21.847364Z",
          "iopub.status.busy": "2022-04-13T20:57:21.846488Z",
          "iopub.status.idle": "2022-04-13T20:57:22.215124Z",
          "shell.execute_reply": "2022-04-13T20:57:22.213780Z",
          "shell.execute_reply.started": "2022-04-12T22:11:46.576352Z"
        },
        "papermill": {
          "duration": 0.4736,
          "end_time": "2022-04-13T20:57:22.215303",
          "exception": false,
          "start_time": "2022-04-13T20:57:21.741703",
          "status": "completed"
        },
        "tags": [],
        "id": "eeae0006"
      },
      "outputs": [],
      "source": [
        "# importing necessary packages\n",
        "import numpy as np\n",
        "import pandas as pd\n",
        "\n",
        "import requests\n",
        "from bs4 import BeautifulSoup\n",
        "from selenium import webdriver\n",
        "from selenium.webdriver.chrome.options import Options\n",
        "from selenium.webdriver.common.by import By\n",
        "from selenium.webdriver.support.ui import WebDriverWait\n",
        "from selenium.webdriver.support import expected_conditions as EC\n",
        "\n",
        "from chromedriver_py import binary_path\n",
        "import time\n",
        "\n",
        "from selenium import webdriver"
      ]
    },
    {
      "cell_type": "markdown",
      "id": "205e9510",
      "metadata": {
        "papermill": {
          "duration": 0.105422,
          "end_time": "2022-04-13T20:57:22.429692",
          "exception": false,
          "start_time": "2022-04-13T20:57:22.324270",
          "status": "completed"
        },
        "tags": [],
        "id": "205e9510"
      },
      "source": [
        "**Installing tqdm to visualize for loops iterations advancement**"
      ]
    },
    {
      "cell_type": "code",
      "execution_count": null,
      "id": "a60ee4f0",
      "metadata": {
        "execution": {
          "iopub.execute_input": "2022-04-13T20:57:22.623163Z",
          "iopub.status.busy": "2022-04-13T20:57:22.622434Z",
          "iopub.status.idle": "2022-04-13T20:57:31.729833Z",
          "shell.execute_reply": "2022-04-13T20:57:31.729119Z",
          "shell.execute_reply.started": "2022-04-12T22:11:46.588629Z"
        },
        "papermill": {
          "duration": 9.205987,
          "end_time": "2022-04-13T20:57:31.730006",
          "exception": false,
          "start_time": "2022-04-13T20:57:22.524019",
          "status": "completed"
        },
        "tags": [],
        "id": "a60ee4f0",
        "outputId": "35222dc4-c534-4f5b-95ed-61b80a9cac39"
      },
      "outputs": [
        {
          "name": "stdout",
          "output_type": "stream",
          "text": [
            "Requirement already satisfied: tqdm in /opt/conda/lib/python3.7/site-packages (4.62.3)\r\n",
            "\u001b[33mWARNING: Running pip as the 'root' user can result in broken permissions and conflicting behaviour with the system package manager. It is recommended to use a virtual environment instead: https://pip.pypa.io/warnings/venv\u001b[0m\r\n"
          ]
        }
      ],
      "source": [
        "!pip install tqdm\n",
        "from tqdm import tqdm"
      ]
    },
    {
      "cell_type": "markdown",
      "id": "347525ad",
      "metadata": {
        "papermill": {
          "duration": 0.094585,
          "end_time": "2022-04-13T20:57:31.919027",
          "exception": false,
          "start_time": "2022-04-13T20:57:31.824442",
          "status": "completed"
        },
        "tags": [],
        "id": "347525ad"
      },
      "source": [
        "**After setting up the environment, we create a function that initialize our webdriver**"
      ]
    },
    {
      "cell_type": "code",
      "execution_count": null,
      "id": "7ec97b64",
      "metadata": {
        "execution": {
          "iopub.execute_input": "2022-04-13T20:57:32.120692Z",
          "iopub.status.busy": "2022-04-13T20:57:32.119934Z",
          "iopub.status.idle": "2022-04-13T20:57:32.122814Z",
          "shell.execute_reply": "2022-04-13T20:57:32.122156Z",
          "shell.execute_reply.started": "2022-04-12T22:11:55.872236Z"
        },
        "papermill": {
          "duration": 0.107062,
          "end_time": "2022-04-13T20:57:32.122981",
          "exception": false,
          "start_time": "2022-04-13T20:57:32.015919",
          "status": "completed"
        },
        "tags": [],
        "id": "7ec97b64"
      },
      "outputs": [],
      "source": [
        "# creating a function that creates a chrome options object with given parameters\n",
        "def add_driver_options(options):\n",
        "    \"\"\"\n",
        "    This function sets driver options ( given as parameter)\n",
        "    \"\"\"\n",
        "    chrome_options = Options()\n",
        "    for opt in options:\n",
        "        chrome_options.add_argument(opt)\n",
        "    return chrome_options\n",
        "\n",
        "# create function that initialize the driver and return it\n",
        "\n",
        "def initialize_driver():\n",
        "    \"\"\"\n",
        "    This function create an instace of the web driver with the options below:\n",
        "    \"\"\"\n",
        "    driver_config = {\n",
        "        \"executable_path\": binary_path,\n",
        "        \"options\": [\n",
        "            \"--headless\",\n",
        "            \"--no-sandbox\",\n",
        "            \"--start-fullscreen\",\n",
        "            \"--allow-insecure-localhost\",\n",
        "            \"--disable-dev-shm-usage\",\n",
        "        ],\n",
        "    }\n",
        "    options = add_driver_options(driver_config[\"options\"])\n",
        "    driver = webdriver.Chrome(\n",
        "        executable_path=driver_config[\"executable_path\"], options=options\n",
        "    )\n",
        "    return driver"
      ]
    },
    {
      "cell_type": "markdown",
      "id": "96d99419",
      "metadata": {
        "papermill": {
          "duration": 0.096142,
          "end_time": "2022-04-13T20:57:32.314949",
          "exception": false,
          "start_time": "2022-04-13T20:57:32.218807",
          "status": "completed"
        },
        "tags": [],
        "id": "96d99419"
      },
      "source": [
        "**Now, let's create a driver that we will be using along the rest of this first Part**"
      ]
    },
    {
      "cell_type": "code",
      "execution_count": null,
      "id": "86eb95b5",
      "metadata": {
        "execution": {
          "iopub.execute_input": "2022-04-13T20:57:32.508192Z",
          "iopub.status.busy": "2022-04-13T20:57:32.507437Z",
          "iopub.status.idle": "2022-04-13T20:57:33.538823Z",
          "shell.execute_reply": "2022-04-13T20:57:33.537714Z",
          "shell.execute_reply.started": "2022-04-12T22:11:55.903348Z"
        },
        "papermill": {
          "duration": 1.129082,
          "end_time": "2022-04-13T20:57:33.539005",
          "exception": false,
          "start_time": "2022-04-13T20:57:32.409923",
          "status": "completed"
        },
        "tags": [],
        "id": "86eb95b5",
        "outputId": "c72937a6-6f95-400b-b1dc-7794a952cf1d"
      },
      "outputs": [
        {
          "name": "stderr",
          "output_type": "stream",
          "text": [
            "/opt/conda/lib/python3.7/site-packages/ipykernel_launcher.py:29: DeprecationWarning: executable_path has been deprecated, please pass in a Service object\n"
          ]
        }
      ],
      "source": [
        "# create a driver with initialize_driver method\n",
        "driver = initialize_driver()"
      ]
    },
    {
      "cell_type": "markdown",
      "id": "f5926fda",
      "metadata": {
        "papermill": {
          "duration": 0.094541,
          "end_time": "2022-04-13T20:57:33.730459",
          "exception": false,
          "start_time": "2022-04-13T20:57:33.635918",
          "status": "completed"
        },
        "tags": [],
        "id": "f5926fda"
      },
      "source": [
        "## **Scrape the data:**"
      ]
    },
    {
      "cell_type": "markdown",
      "id": "ded2f412",
      "metadata": {
        "papermill": {
          "duration": 0.0972,
          "end_time": "2022-04-13T20:57:33.925840",
          "exception": false,
          "start_time": "2022-04-13T20:57:33.828640",
          "status": "completed"
        },
        "tags": [],
        "id": "ded2f412"
      },
      "source": [
        "### Creating get brand cars list function:\n",
        "\n",
        "**At this level,the first thing is to get the urls of each brand from the fllowing list:**\n",
        "\n",
        "![image.png](attachment:f3548ac7-076a-4357-8195-9e9ac60964d7.png)\n",
        "\n",
        "**Each logo has a url that will lead us to another page with all cars of the given brand.**\n",
        "\n",
        "**Our task now is to create a function that take as parameter the home url https://www.wandaloo.com/neuf/ and return a list of urls of brands**"
      ]
    },
    {
      "cell_type": "code",
      "execution_count": null,
      "id": "5b03ed32",
      "metadata": {
        "execution": {
          "iopub.execute_input": "2022-04-13T20:57:34.129938Z",
          "iopub.status.busy": "2022-04-13T20:57:34.129176Z",
          "iopub.status.idle": "2022-04-13T20:57:34.134839Z",
          "shell.execute_reply": "2022-04-13T20:57:34.135405Z",
          "shell.execute_reply.started": "2022-04-12T22:11:56.663347Z"
        },
        "papermill": {
          "duration": 0.11322,
          "end_time": "2022-04-13T20:57:34.135606",
          "exception": false,
          "start_time": "2022-04-13T20:57:34.022386",
          "status": "completed"
        },
        "tags": [],
        "id": "5b03ed32"
      },
      "outputs": [],
      "source": [
        "def get_brands_cars_list(home_page_url):\n",
        "    # open the home page at the browser with driver.get method\n",
        "    driver.get(home_page_url)\n",
        "    # get all elements (a tags) with the following XPATH //body/div[@id='brand']/div[1]/ul[1]/li/a[1]\n",
        "    brands = driver.find_elements(by=By.XPATH, value=\"//body/div[@id='brand']/div[1]/ul[1]/li/a[1]\")\n",
        "    # get href attribute of each a tag from the list above\n",
        "    brands_urls = [el.get_attribute('href') for el in brands]\n",
        "    # return the created list\n",
        "    return brands_urls"
      ]
    },
    {
      "cell_type": "markdown",
      "id": "0a47559f",
      "metadata": {
        "papermill": {
          "duration": 0.095958,
          "end_time": "2022-04-13T20:57:34.327741",
          "exception": false,
          "start_time": "2022-04-13T20:57:34.231783",
          "status": "completed"
        },
        "tags": [],
        "id": "0a47559f"
      },
      "source": [
        "### Creating get cars models function:\n",
        "\n",
        "**This function takes each brand url and returns all cars models available under the given brand. For example,let's take Porsche:**\n",
        "\n",
        "![image.png](attachment:8c23d041-22e4-4597-a6c1-7ad8169fbfe0.png)\n",
        "\n",
        "**Porsche has many models such as 911, Panamera, Cayenne ....**\n",
        "\n",
        "> **Our task now is to get the url of each model**"
      ]
    },
    {
      "cell_type": "code",
      "execution_count": null,
      "id": "40da0a09",
      "metadata": {
        "execution": {
          "iopub.execute_input": "2022-04-13T20:57:34.524040Z",
          "iopub.status.busy": "2022-04-13T20:57:34.523235Z",
          "iopub.status.idle": "2022-04-13T20:57:34.528354Z",
          "shell.execute_reply": "2022-04-13T20:57:34.528934Z",
          "shell.execute_reply.started": "2022-04-12T22:11:56.671959Z"
        },
        "papermill": {
          "duration": 0.104707,
          "end_time": "2022-04-13T20:57:34.529153",
          "exception": false,
          "start_time": "2022-04-13T20:57:34.424446",
          "status": "completed"
        },
        "tags": [],
        "id": "40da0a09"
      },
      "outputs": [],
      "source": [
        "def get_cars_models(brand_url):\n",
        "    # open the brand page with the browser\n",
        "    driver.get(brand_url)\n",
        "    # find all a tags with the follwing XPATH  //body/div[@id='list-modele']/div[1]/ul[1]/li/div[2]/h3/a[1]\n",
        "    models = driver.find_elements(by=By.XPATH, value=\"//body/div[@id='list-modele']/div[1]/ul[1]/li/div[2]/h3/a[1]\")\n",
        "    # Get the href attribute with .get attribute method and put urls into models_urls list\n",
        "    models_urls = [el.get_attribute('href') for el in models]\n",
        "    # return the list\n",
        "    return models_urls"
      ]
    },
    {
      "cell_type": "markdown",
      "id": "b1b17bbc",
      "metadata": {
        "papermill": {
          "duration": 0.094929,
          "end_time": "2022-04-13T20:57:34.720168",
          "exception": false,
          "start_time": "2022-04-13T20:57:34.625239",
          "status": "completed"
        },
        "tags": [],
        "id": "b1b17bbc"
      },
      "source": [
        "### Creating get cars versions function:\n",
        "\n",
        "**After getting urls of all brands models, for example the url url of Porsche Panamera, it's time to get the urls of all verions of**\n",
        "**Porsche Panamera:**\n",
        "\n",
        "![image.png](attachment:50c9d1e0-ac6f-4470-9268-7c19fc78570b.png)\n",
        "\n",
        "**To do so, we have created a function called get cars versions which take the brand model url as parameter and loops over the li elements and get their urls, these urls are returned by the function**\n",
        "\n",
        "**This function return the urls of each cars**"
      ]
    },
    {
      "cell_type": "code",
      "execution_count": null,
      "id": "fd31002d",
      "metadata": {
        "execution": {
          "iopub.execute_input": "2022-04-13T20:57:34.916629Z",
          "iopub.status.busy": "2022-04-13T20:57:34.915832Z",
          "iopub.status.idle": "2022-04-13T20:57:34.921250Z",
          "shell.execute_reply": "2022-04-13T20:57:34.921873Z",
          "shell.execute_reply.started": "2022-04-12T22:11:56.695339Z"
        },
        "papermill": {
          "duration": 0.106187,
          "end_time": "2022-04-13T20:57:34.922076",
          "exception": false,
          "start_time": "2022-04-13T20:57:34.815889",
          "status": "completed"
        },
        "tags": [],
        "id": "fd31002d"
      },
      "outputs": [],
      "source": [
        "def get_cars_versions(model_url):\n",
        "    # handling exceptions, to avoid any program execution interruption\n",
        "    try:\n",
        "        # open the brand model page at the browser\n",
        "        driver.get(model_url)\n",
        "        # get all a tags elements with the following XPATH : //body/div[@id='list-version']/div[1]/ul[1]/li[not(contains(@class,'millesime'))]/div[1]/p[1]/a[1]\n",
        "        versions=driver.find_elements(by=By.XPATH,value=\"//body/div[@id='list-version']/div[1]/ul[1]/li[not(contains(@class,'millesime'))]/div[1]/p[1]/a[1]\")\n",
        "        # extract the href attributes from our a tags\n",
        "        versions_urls = [el.get_attribute('href') for el in versions]\n",
        "        return versions_urls\n",
        "    except:\n",
        "        print(\"error while getting versions of\", model_url)"
      ]
    },
    {
      "cell_type": "markdown",
      "id": "64cb6558",
      "metadata": {
        "papermill": {
          "duration": 0.096715,
          "end_time": "2022-04-13T20:57:35.114765",
          "exception": false,
          "start_time": "2022-04-13T20:57:35.018050",
          "status": "completed"
        },
        "tags": [],
        "id": "64cb6558"
      },
      "source": [
        "### Creating get cars data function:\n",
        "\n",
        "**Now, we have a list of all cars urls, it's time to scrape cars info**\n",
        "\n",
        "- First: Discovering the page architecture:\n",
        "\n",
        "![image.png](attachment:daea0238-2947-49a8-a6fc-07173a4a236d.png)\n",
        "\n",
        "**We can see in this section of page,  that we have the car Brand and the model**\n",
        "**Then , we have the version**\n",
        "**And finally, the price of the car**\n",
        "\n",
        "![image.png](attachment:1a6ac840-9509-4443-9c9c-df66906cd1a3.png)\n",
        "\n",
        "> **In this section we have the technical caracteristics as a table:**\n",
        "\n",
        "- Second; write a script that automate these data extraction:\n",
        "\n",
        "**NB: Keep in mind that the following blocs should be expanded also**\n",
        "\n",
        "![image.png](attachment:40d019e4-6357-4a7c-9b20-5e9fd114157c.png)\n",
        "\n",
        "\n",
        "> **Now let's code:**\n"
      ]
    },
    {
      "cell_type": "code",
      "execution_count": null,
      "id": "bce47661",
      "metadata": {
        "execution": {
          "iopub.execute_input": "2022-04-13T20:57:35.331770Z",
          "iopub.status.busy": "2022-04-13T20:57:35.330805Z",
          "iopub.status.idle": "2022-04-13T20:57:35.347461Z",
          "shell.execute_reply": "2022-04-13T20:57:35.348320Z",
          "shell.execute_reply.started": "2022-04-12T22:11:56.708620Z"
        },
        "papermill": {
          "duration": 0.137401,
          "end_time": "2022-04-13T20:57:35.348621",
          "exception": false,
          "start_time": "2022-04-13T20:57:35.211220",
          "status": "completed"
        },
        "tags": [],
        "id": "bce47661"
      },
      "outputs": [],
      "source": [
        "def get_car_data(car_url):\n",
        "    # define a dictionary that will contain the caracteristcs as follow:  {Caracteristic_name: caracteristic_value}\n",
        "    caracteristics={}\n",
        "    # open the car page on the browser\n",
        "    driver.get(car_url)\n",
        "    # get the car name (Brand + Model)\n",
        "    car_name=driver.find_element(by=By.XPATH,value=\"//body/div[@id='list-modele']/div[1]/div[1]/h1[1]\").text\n",
        "    # get the version of the car\n",
        "    version_name=driver.find_element(by=By.XPATH,value=\"//body/div[@id='list-modele']/div[1]/div[1]//h3[1]\").text\n",
        "    # get the price of the car\n",
        "    price = driver.find_element(by=By.XPATH, value=\"//body/div[@id='list-modele']/div[1]/div[3]/p[1]\").text\n",
        "    # put these 3 informations into a temp_dict={Brand: 'Porsche',Model:'Panamera',Version:'Hybrid',Price:'1500000'}\n",
        "    temp_dict={\"Brand\":car_name.split()[0],\"Model\":' '.join(car_name.split()[1:]),\"Price\":price}\n",
        "    # put these information into our caracteristics dictionnary\n",
        "    caracteristics.update(temp_dict)\n",
        "    # get the technical table and loop over it to extract the informations, and put it into our dictionnary\n",
        "    caracteristics_blocs = driver.find_elements(by=By.XPATH, value=\"//body/div[@id='fiche-technique']/div[1]/div\")\n",
        "    for i in range(len(caracteristics_blocs)):\n",
        "        bloc=caracteristics_blocs[i]\n",
        "        \n",
        "        # For the First table, it's expanded by default, but for the rest we have to click on expand button to show tthe rest of caracteristics\n",
        "\n",
        "        if i>0:\n",
        "            expand = \"//body/div[@id='fiche-technique']/div[1]/div[\" + str(i + 1) + \"]/p[1]\"\n",
        "            try:\n",
        "\n",
        "                WebDriverWait(driver, 3).until(EC.element_to_be_clickable((By.XPATH,expand))).click()\n",
        "\n",
        "            except:\n",
        "                print(\"error while expanding div\")\n",
        "                continue\n",
        "        property_name=\"//body/div[@id='fiche-technique']/div[1]/div[\"+str(i+1)+\"]/ul[1]/li/p[@class='param']\"\n",
        "        property_value = \"//body/div[@id='fiche-technique']/div[1]/div[\"+str(i+1)+\"]/ul[1]/li/p[@class='value']\"\n",
        "        names = driver.find_elements(by=By.XPATH,value=property_name)\n",
        "        values = driver.find_elements(by=By.XPATH, value=property_value)\n",
        "        param_values=[]\n",
        "        for value in values:\n",
        "            try:\n",
        "                # Some, caracteristics have value as an image (png sign of yes or no)\n",
        "                image = value.find_element(by=By.XPATH, value=\"./img[1]\")\n",
        "                if image.get_attribute(\"src\")==\"https://www.wandaloo.com/imgs/non.png\":\n",
        "                    param_values.append(\"non\")\n",
        "                elif image.get_attribute(\"src\")==\"https://www.wandaloo.com/imgs/oui.png\":\n",
        "                    param_values.append(\"oui\")\n",
        "            except:\n",
        "                param_values.append(value.text)\n",
        "\n",
        "        param_names = [el.text for el in names]\n",
        "        temp = {param_names[i]: param_values[i] for i in range(len(param_names))}\n",
        "        caracteristics.update(temp)\n",
        "    return caracteristics\n"
      ]
    },
    {
      "cell_type": "code",
      "execution_count": null,
      "id": "fa89c2bc",
      "metadata": {
        "execution": {
          "iopub.execute_input": "2022-04-13T20:57:35.544222Z",
          "iopub.status.busy": "2022-04-13T20:57:35.543514Z",
          "iopub.status.idle": "2022-04-13T20:57:41.474315Z",
          "shell.execute_reply": "2022-04-13T20:57:41.474847Z",
          "shell.execute_reply.started": "2022-04-12T22:11:56.730004Z"
        },
        "papermill": {
          "duration": 6.030194,
          "end_time": "2022-04-13T20:57:41.475037",
          "exception": false,
          "start_time": "2022-04-13T20:57:35.444843",
          "status": "completed"
        },
        "tags": [],
        "id": "fa89c2bc",
        "outputId": "502d6911-d465-48a3-e8d1-ee4f39cd6515"
      },
      "outputs": [
        {
          "name": "stdout",
          "output_type": "stream",
          "text": [
            "we have  33\n"
          ]
        }
      ],
      "source": [
        "brands_urls=get_brands_cars_list(\"https://www.wandaloo.com/neuf/\")\n",
        "print(\"we have \",len(brands_urls))"
      ]
    },
    {
      "cell_type": "code",
      "execution_count": null,
      "id": "4207fc61",
      "metadata": {
        "execution": {
          "iopub.execute_input": "2022-04-13T20:57:41.677939Z",
          "iopub.status.busy": "2022-04-13T20:57:41.676711Z",
          "iopub.status.idle": "2022-04-13T20:57:43.813314Z",
          "shell.execute_reply": "2022-04-13T20:57:43.812134Z",
          "shell.execute_reply.started": "2022-04-12T22:11:59.563610Z"
        },
        "papermill": {
          "duration": 2.242563,
          "end_time": "2022-04-13T20:57:43.813538",
          "exception": false,
          "start_time": "2022-04-13T20:57:41.570975",
          "status": "completed"
        },
        "tags": [],
        "id": "4207fc61",
        "outputId": "3d04de8c-f2b4-49e9-983f-42964ceed103"
      },
      "outputs": [
        {
          "name": "stdout",
          "output_type": "stream",
          "text": [
            "we have  2\n"
          ]
        }
      ],
      "source": [
        "models_urls=get_cars_models(\"https://www.wandaloo.com/neuf/alfa-romeo/\")\n",
        "print(\"we have \",len(models_urls))"
      ]
    },
    {
      "cell_type": "markdown",
      "id": "f73ebb2f",
      "metadata": {
        "papermill": {
          "duration": 0.094872,
          "end_time": "2022-04-13T20:57:44.033060",
          "exception": false,
          "start_time": "2022-04-13T20:57:43.938188",
          "status": "completed"
        },
        "tags": [],
        "id": "f73ebb2f"
      },
      "source": [
        "### Creating the main function:\n",
        "\n",
        "**Now we have all functions that we need, it's time to write our main program function**\n",
        "\n",
        "**This ducntion will loop over brands and get all models and versions then extract the data of each single car**\n",
        "\n",
        "> **The extracted data will be in a dictionnary at first, then we will convert it into a dataframe to generate a csv file**"
      ]
    },
    {
      "cell_type": "code",
      "execution_count": null,
      "id": "b47659bb",
      "metadata": {
        "_cell_guid": "b1076dfc-b9ad-4769-8c92-a6c4dae69d19",
        "_uuid": "8f2839f25d086af736a60e9eeb907d3b93b6e0e5",
        "execution": {
          "iopub.execute_input": "2022-04-13T20:57:44.239906Z",
          "iopub.status.busy": "2022-04-13T20:57:44.238815Z",
          "iopub.status.idle": "2022-04-13T22:39:16.412296Z",
          "shell.execute_reply": "2022-04-13T22:39:16.409090Z",
          "shell.execute_reply.started": "2022-04-12T22:12:01.334423Z"
        },
        "papermill": {
          "duration": 6092.280711,
          "end_time": "2022-04-13T22:39:16.412602",
          "exception": false,
          "start_time": "2022-04-13T20:57:44.131891",
          "status": "completed"
        },
        "tags": [],
        "id": "b47659bb",
        "outputId": "160dc90c-ba37-4927-a890-1ec2c118dcc1"
      },
      "outputs": [
        {
          "name": "stdout",
          "output_type": "stream",
          "text": [
            "============== 33 Car brand has been found ==============\n",
            "============== 2 models has been found ==============\n",
            "============== 3 versions has been found ==============\n",
            "============== 3 versions has been found ==============\n",
            "============== 17 models has been found ==============\n",
            "============== 6 versions has been found ==============\n",
            "============== 4 versions has been found ==============\n",
            "============== 3 versions has been found ==============\n",
            "============== 3 versions has been found ==============\n",
            "============== 3 versions has been found ==============\n",
            "============== 6 versions has been found ==============\n",
            "============== 4 versions has been found ==============\n",
            "============== 4 versions has been found ==============\n",
            "============== 4 versions has been found ==============\n",
            "============== 4 versions has been found ==============\n",
            "============== 4 versions has been found ==============\n",
            "============== 7 versions has been found ==============\n",
            "============== 3 versions has been found ==============\n",
            "============== 3 versions has been found ==============\n",
            "============== 3 versions has been found ==============\n",
            "============== 2 versions has been found ==============\n",
            "============== 2 versions has been found ==============\n",
            "============== 17 models has been found ==============\n",
            "============== 9 versions has been found ==============\n",
            "============== 11 versions has been found ==============\n",
            "============== 11 versions has been found ==============\n",
            "============== 11 versions has been found ==============\n",
            "============== 13 versions has been found ==============\n",
            "============== 9 versions has been found ==============\n",
            "============== 14 versions has been found ==============\n",
            "============== 6 versions has been found ==============\n",
            "============== 6 versions has been found ==============\n",
            "============== 3 versions has been found ==============\n",
            "============== 6 versions has been found ==============\n",
            "============== 6 versions has been found ==============\n",
            "============== 4 versions has been found ==============\n",
            "============== 2 versions has been found ==============\n",
            "============== 17 versions has been found ==============\n",
            "============== 4 versions has been found ==============\n",
            "============== 4 versions has been found ==============\n",
            "============== 7 models has been found ==============\n",
            "============== 1 versions has been found ==============\n",
            "============== 3 versions has been found ==============\n",
            "============== 2 versions has been found ==============\n",
            "============== 5 versions has been found ==============\n",
            "============== 4 versions has been found ==============\n",
            "============== 4 versions has been found ==============\n",
            "============== 4 versions has been found ==============\n",
            "============== 4 models has been found ==============\n",
            "============== 8 versions has been found ==============\n",
            "============== 5 versions has been found ==============\n",
            "============== 8 versions has been found ==============\n",
            "============== 2 versions has been found ==============\n",
            "============== 2 models has been found ==============\n",
            "============== 1 versions has been found ==============\n",
            "============== 1 versions has been found ==============\n",
            "============== 2 models has been found ==============\n",
            "============== 2 versions has been found ==============\n",
            "============== 4 versions has been found ==============\n",
            "============== 5 models has been found ==============\n",
            "============== 4 versions has been found ==============\n",
            "============== 2 versions has been found ==============\n",
            "============== 5 versions has been found ==============\n",
            "============== 3 versions has been found ==============\n",
            "============== 1 versions has been found ==============\n",
            "============== 6 models has been found ==============\n",
            "============== 1 versions has been found ==============\n",
            "============== 6 versions has been found ==============\n",
            "============== 4 versions has been found ==============\n",
            "============== 5 versions has been found ==============\n",
            "============== 1 versions has been found ==============\n",
            "============== 3 versions has been found ==============\n",
            "============== 4 models has been found ==============\n",
            "============== 3 versions has been found ==============\n",
            "============== 3 versions has been found ==============\n",
            "============== 2 versions has been found ==============\n",
            "============== 1 versions has been found ==============\n",
            "============== 9 models has been found ==============\n",
            "============== 4 versions has been found ==============\n",
            "============== 4 versions has been found ==============\n",
            "============== 4 versions has been found ==============\n",
            "============== 6 versions has been found ==============\n",
            "============== 4 versions has been found ==============\n",
            "============== 2 versions has been found ==============\n",
            "============== 4 versions has been found ==============\n",
            "============== 9 versions has been found ==============\n",
            "============== 8 versions has been found ==============\n",
            "============== 7 models has been found ==============\n",
            "============== 3 versions has been found ==============\n",
            "============== 3 versions has been found ==============\n",
            "============== 4 versions has been found ==============\n",
            "============== 3 versions has been found ==============\n",
            "============== 4 versions has been found ==============\n",
            "============== 1 versions has been found ==============\n",
            "============== 1 versions has been found ==============\n",
            "============== 3 models has been found ==============\n",
            "============== 2 versions has been found ==============\n",
            "============== 2 versions has been found ==============\n",
            "============== 2 versions has been found ==============\n",
            "============== 9 models has been found ==============\n",
            "============== 9 versions has been found ==============\n",
            "============== 2 versions has been found ==============\n",
            "============== 3 versions has been found ==============\n",
            "============== 2 versions has been found ==============\n",
            "============== 9 versions has been found ==============\n",
            "============== 3 versions has been found ==============\n",
            "============== 4 versions has been found ==============\n",
            "============== 6 versions has been found ==============\n",
            "============== 2 versions has been found ==============\n",
            "============== 7 models has been found ==============\n",
            "============== 4 versions has been found ==============\n",
            "============== 4 versions has been found ==============\n",
            "============== 3 versions has been found ==============\n",
            "============== 3 versions has been found ==============\n",
            "============== 2 versions has been found ==============\n",
            "============== 3 versions has been found ==============\n",
            "============== 3 versions has been found ==============\n",
            "============== 6 models has been found ==============\n",
            "============== 3 versions has been found ==============\n",
            "============== 3 versions has been found ==============\n",
            "============== 1 versions has been found ==============\n",
            "============== 3 versions has been found ==============\n",
            "============== 3 versions has been found ==============\n",
            "============== 3 versions has been found ==============\n",
            "============== 3 models has been found ==============\n",
            "============== 6 versions has been found ==============\n",
            "============== 2 versions has been found ==============\n",
            "============== 3 versions has been found ==============\n",
            "============== 5 models has been found ==============\n",
            "============== 1 versions has been found ==============\n",
            "============== 1 versions has been found ==============\n",
            "============== 2 versions has been found ==============\n",
            "============== 1 versions has been found ==============\n",
            "============== 1 versions has been found ==============\n",
            "============== 17 models has been found ==============\n",
            "============== 6 versions has been found ==============\n",
            "============== 3 versions has been found ==============\n",
            "============== 2 versions has been found ==============\n",
            "============== 8 versions has been found ==============\n",
            "============== 10 versions has been found ==============\n",
            "============== 3 versions has been found ==============\n",
            "============== 9 versions has been found ==============\n",
            "============== 3 versions has been found ==============\n",
            "============== 1 versions has been found ==============\n",
            "============== 4 versions has been found ==============\n",
            "============== 4 versions has been found ==============\n",
            "============== 24 versions has been found ==============\n",
            "============== 9 versions has been found ==============\n",
            "============== 12 versions has been found ==============\n",
            "============== 9 versions has been found ==============\n",
            "============== 6 versions has been found ==============\n",
            "============== 4 versions has been found ==============\n",
            "============== 4 models has been found ==============\n",
            "============== 3 versions has been found ==============\n",
            "============== 6 versions has been found ==============\n",
            "============== 5 versions has been found ==============\n",
            "============== 3 versions has been found ==============\n",
            "============== 2 models has been found ==============\n",
            "============== 4 versions has been found ==============\n",
            "============== 2 versions has been found ==============\n",
            "============== 3 models has been found ==============\n",
            "============== 6 versions has been found ==============\n",
            "============== 5 versions has been found ==============\n",
            "============== 6 versions has been found ==============\n",
            "============== 4 models has been found ==============\n",
            "============== 4 versions has been found ==============\n",
            "============== 5 versions has been found ==============\n",
            "============== 5 versions has been found ==============\n",
            "============== 2 versions has been found ==============\n",
            "============== 8 models has been found ==============\n",
            "============== 6 versions has been found ==============\n",
            "============== 2 versions has been found ==============\n",
            "============== 3 versions has been found ==============\n",
            "============== 8 versions has been found ==============\n",
            "============== 5 versions has been found ==============\n",
            "============== 2 versions has been found ==============\n",
            "============== 2 versions has been found ==============\n",
            "============== 3 versions has been found ==============\n",
            "============== 7 models has been found ==============\n",
            "============== 16 versions has been found ==============\n",
            "============== 3 versions has been found ==============\n",
            "============== 3 versions has been found ==============\n",
            "============== 4 versions has been found ==============\n",
            "============== 3 versions has been found ==============\n",
            "============== 4 versions has been found ==============\n",
            "============== 3 versions has been found ==============\n",
            "============== 8 models has been found ==============\n",
            "============== 6 versions has been found ==============\n",
            "============== 4 versions has been found ==============\n",
            "============== 5 versions has been found ==============\n",
            "============== 4 versions has been found ==============\n",
            "============== 2 versions has been found ==============\n",
            "============== 2 versions has been found ==============\n",
            "============== 3 versions has been found ==============\n",
            "============== 2 versions has been found ==============\n",
            "============== 4 models has been found ==============\n",
            "============== 7 versions has been found ==============\n",
            "============== 2 versions has been found ==============\n",
            "============== 4 versions has been found ==============\n",
            "============== 5 versions has been found ==============\n",
            "============== 7 models has been found ==============\n",
            "============== 3 versions has been found ==============\n",
            "============== 3 versions has been found ==============\n",
            "============== 5 versions has been found ==============\n",
            "============== 4 versions has been found ==============\n",
            "============== 3 versions has been found ==============\n",
            "============== 4 versions has been found ==============\n",
            "============== 5 versions has been found ==============\n",
            "============== 5 models has been found ==============\n",
            "============== 1 versions has been found ==============\n",
            "============== 3 versions has been found ==============\n",
            "============== 1 versions has been found ==============\n",
            "============== 2 versions has been found ==============\n",
            "============== 4 versions has been found ==============\n",
            "============== 5 models has been found ==============\n",
            "============== 3 versions has been found ==============\n",
            "============== 3 versions has been found ==============\n",
            "============== 1 versions has been found ==============\n",
            "============== 2 versions has been found ==============\n",
            "============== 2 versions has been found ==============\n",
            "============== 10 models has been found ==============\n",
            "============== 4 versions has been found ==============\n",
            "============== 2 versions has been found ==============\n",
            "============== 3 versions has been found ==============\n",
            "============== 3 versions has been found ==============\n",
            "============== 3 versions has been found ==============\n",
            "============== 3 versions has been found ==============\n",
            "============== 3 versions has been found ==============\n",
            "============== 2 versions has been found ==============\n",
            "============== 4 versions has been found ==============\n",
            "============== 1 versions has been found ==============\n",
            "============== 6 models has been found ==============\n",
            "============== 2 versions has been found ==============\n",
            "============== 3 versions has been found ==============\n",
            "============== 4 versions has been found ==============\n",
            "============== 3 versions has been found ==============\n",
            "============== 4 versions has been found ==============\n",
            "============== 11 versions has been found ==============\n",
            "============== 5 models has been found ==============\n",
            "============== 4 versions has been found ==============\n",
            "============== 4 versions has been found ==============\n",
            "============== 6 versions has been found ==============\n",
            "============== 4 versions has been found ==============\n",
            "============== 5 versions has been found ==============\n",
            "============== All data urls has been fetched, total of 883 car ==============\n",
            "============== Getting Data =================\n"
          ]
        },
        {
          "name": "stderr",
          "output_type": "stream",
          "text": [
            "100%|██████████| 883/883 [1:35:24<00:00,  6.48s/it]"
          ]
        },
        {
          "name": "stdout",
          "output_type": "stream",
          "text": [
            "============== Data has been scraped successfully, check your output directory ! ==============\n"
          ]
        },
        {
          "name": "stderr",
          "output_type": "stream",
          "text": [
            "\n"
          ]
        }
      ],
      "source": [
        "def main(verbose=True):\n",
        "    # set our main page url\n",
        "    home=\"https://www.wandaloo.com/neuf/\"\n",
        "    # define a list that will contain the urls of all new cars\n",
        "    urls=[]\n",
        "    # define the dataframe in which we will put our final data\n",
        "    df=pd.DataFrame()\n",
        "    # call get_brands function\n",
        "    brands_urls=get_brands_cars_list(home)\n",
        "    if verbose:\n",
        "        print(\"============== {} Car brand has been found ==============\".format(len(brands_urls)))\n",
        "        \n",
        "    # loop over the brands and get models and versions of each  brand, the results are putted into urls list\n",
        "    for brand in brands_urls:\n",
        "        models_urls=get_cars_models(brand)\n",
        "        if verbose:\n",
        "            print(\"============== {0} models has been found ==============\".format(len(models_urls)))\n",
        "        for model in models_urls:\n",
        "            versions_urls=get_cars_versions(model)\n",
        "            urls=urls+versions_urls\n",
        "            if verbose:\n",
        "                print(\"============== {0} versions has been found ==============\".format(len(versions_urls)))\n",
        "    if verbose:\n",
        "        print(\"============== All data urls has been fetched, total of {} car ==============\".format(len(urls)))\n",
        "        print(\"============== Getting Data =================\")\n",
        "        \n",
        "    # Now, we have all cars urls, let's get the data of each car and add it into our dataframe\n",
        "    for i in tqdm(range(len(urls))):\n",
        "        data=get_car_data(urls[i])\n",
        "        df_temp = pd.DataFrame(data, index=[str(i)])\n",
        "        df = pd.concat([df, df_temp])\n",
        "    if verbose:\n",
        "        print(\"============== Data has been scraped successfully, check your output directory ! ==============\".format(len(models_urls)))\n",
        "    # export our df as a csv file\n",
        "    df.to_csv('new_cars_data1.csv')\n",
        "    return df\n",
        "\n",
        "# call the main function\n",
        "new_cars=pd.DataFrame()\n",
        "if __name__ == \"__main__\":\n",
        "    new_cars=main()\n",
        "    new_cars.to_csv('new_cars_data_.csv')\n",
        "\n"
      ]
    },
    {
      "cell_type": "code",
      "execution_count": null,
      "id": "190a7255",
      "metadata": {
        "execution": {
          "iopub.execute_input": "2022-04-13T22:39:17.443043Z",
          "iopub.status.busy": "2022-04-13T22:39:17.437641Z",
          "iopub.status.idle": "2022-04-13T22:39:17.479408Z",
          "shell.execute_reply": "2022-04-13T22:39:17.480081Z",
          "shell.execute_reply.started": "2022-04-12T23:55:39.628385Z"
        },
        "papermill": {
          "duration": 0.560453,
          "end_time": "2022-04-13T22:39:17.480265",
          "exception": false,
          "start_time": "2022-04-13T22:39:16.919812",
          "status": "completed"
        },
        "tags": [],
        "id": "190a7255",
        "outputId": "0371a085-688c-46f9-f6c8-5728431601d3"
      },
      "outputs": [
        {
          "data": {
            "text/html": [
              "<div>\n",
              "<style scoped>\n",
              "    .dataframe tbody tr th:only-of-type {\n",
              "        vertical-align: middle;\n",
              "    }\n",
              "\n",
              "    .dataframe tbody tr th {\n",
              "        vertical-align: top;\n",
              "    }\n",
              "\n",
              "    .dataframe thead th {\n",
              "        text-align: right;\n",
              "    }\n",
              "</style>\n",
              "<table border=\"1\" class=\"dataframe\">\n",
              "  <thead>\n",
              "    <tr style=\"text-align: right;\">\n",
              "      <th></th>\n",
              "      <th>Brand</th>\n",
              "      <th>Model</th>\n",
              "      <th>Price</th>\n",
              "      <th>Moteur</th>\n",
              "      <th>Energie</th>\n",
              "      <th>Architecture</th>\n",
              "      <th>Cylindrée</th>\n",
              "      <th>Puissance fiscale</th>\n",
              "      <th>Puissance maxi.</th>\n",
              "      <th>Couple maxi.</th>\n",
              "      <th>...</th>\n",
              "      <th>Bluetooth</th>\n",
              "      <th>Follow-me home</th>\n",
              "      <th>Jantes aluminium</th>\n",
              "      <th>Volant cuir</th>\n",
              "      <th>Feux de jour</th>\n",
              "      <th>Phares à LED</th>\n",
              "      <th>Vitres sur-teintées</th>\n",
              "      <th>Sellerie</th>\n",
              "      <th>Toit</th>\n",
              "      <th>Barres de toit</th>\n",
              "    </tr>\n",
              "  </thead>\n",
              "  <tbody>\n",
              "    <tr>\n",
              "      <th>0</th>\n",
              "      <td>ALFA</td>\n",
              "      <td>ROMEO Giulia</td>\n",
              "      <td>455.000 DH * promo</td>\n",
              "      <td>2.2 JTD 190 TCT</td>\n",
              "      <td>Diesel</td>\n",
              "      <td>4 cylindres en ligne</td>\n",
              "      <td>2.143 cm³</td>\n",
              "      <td>8 cv</td>\n",
              "      <td>190 ch</td>\n",
              "      <td>450 Nm</td>\n",
              "      <td>...</td>\n",
              "      <td>oui</td>\n",
              "      <td>oui</td>\n",
              "      <td>17 pouces</td>\n",
              "      <td>oui</td>\n",
              "      <td>oui</td>\n",
              "      <td>non</td>\n",
              "      <td>oui</td>\n",
              "      <td>Cuir / Similicuir</td>\n",
              "      <td>Rigide</td>\n",
              "      <td>non</td>\n",
              "    </tr>\n",
              "    <tr>\n",
              "      <th>1</th>\n",
              "      <td>ALFA</td>\n",
              "      <td>ROMEO Giulia</td>\n",
              "      <td>510.000 DH * promo</td>\n",
              "      <td>2.2 JTD 190 TCT</td>\n",
              "      <td>Diesel</td>\n",
              "      <td>4 cylindres en ligne</td>\n",
              "      <td>2.143 cm³</td>\n",
              "      <td>8 cv</td>\n",
              "      <td>190 ch</td>\n",
              "      <td>450 Nm</td>\n",
              "      <td>...</td>\n",
              "      <td>oui</td>\n",
              "      <td>oui</td>\n",
              "      <td>18 pouces</td>\n",
              "      <td>oui</td>\n",
              "      <td>oui</td>\n",
              "      <td>non</td>\n",
              "      <td>oui</td>\n",
              "      <td>Cuir / Tissu</td>\n",
              "      <td>Panoramique ouvrant</td>\n",
              "      <td>non</td>\n",
              "    </tr>\n",
              "    <tr>\n",
              "      <th>2</th>\n",
              "      <td>ALFA</td>\n",
              "      <td>ROMEO Giulia</td>\n",
              "      <td>910.000 DH * promo</td>\n",
              "      <td>2.9 V6 510 AT8</td>\n",
              "      <td>Essence</td>\n",
              "      <td>6 cylindres en V</td>\n",
              "      <td>2.891 cm³</td>\n",
              "      <td>17 cv</td>\n",
              "      <td>510 ch</td>\n",
              "      <td>600 Nm</td>\n",
              "      <td>...</td>\n",
              "      <td>oui</td>\n",
              "      <td>oui</td>\n",
              "      <td>19 pouces</td>\n",
              "      <td>oui</td>\n",
              "      <td>oui</td>\n",
              "      <td>non</td>\n",
              "      <td>oui</td>\n",
              "      <td>Cuir / Alcantra</td>\n",
              "      <td>Rigide</td>\n",
              "      <td>non</td>\n",
              "    </tr>\n",
              "    <tr>\n",
              "      <th>3</th>\n",
              "      <td>ALFA</td>\n",
              "      <td>ROMEO Stelvio</td>\n",
              "      <td>505.000 DH * promo</td>\n",
              "      <td>2.2 JTD 190 TCT</td>\n",
              "      <td>Diesel</td>\n",
              "      <td>4 cylindres</td>\n",
              "      <td>2.143 cm³</td>\n",
              "      <td>9 cv</td>\n",
              "      <td>190 ch</td>\n",
              "      <td>450 Nm</td>\n",
              "      <td>...</td>\n",
              "      <td>oui</td>\n",
              "      <td>oui</td>\n",
              "      <td>18 pouces</td>\n",
              "      <td>oui</td>\n",
              "      <td>oui</td>\n",
              "      <td>non</td>\n",
              "      <td>oui</td>\n",
              "      <td>Cuir / Tissu</td>\n",
              "      <td>Rigide</td>\n",
              "      <td>oui</td>\n",
              "    </tr>\n",
              "    <tr>\n",
              "      <th>4</th>\n",
              "      <td>ALFA</td>\n",
              "      <td>ROMEO Stelvio</td>\n",
              "      <td>576.000 DH * promo</td>\n",
              "      <td>2.2 JTD 190 TCT</td>\n",
              "      <td>Diesel</td>\n",
              "      <td>4 cylindres</td>\n",
              "      <td>2.143 cm³</td>\n",
              "      <td>9 cv</td>\n",
              "      <td>190 ch</td>\n",
              "      <td>450 Nm</td>\n",
              "      <td>...</td>\n",
              "      <td>oui</td>\n",
              "      <td>oui</td>\n",
              "      <td>19 pouces</td>\n",
              "      <td>oui</td>\n",
              "      <td>oui</td>\n",
              "      <td>non</td>\n",
              "      <td>oui</td>\n",
              "      <td>Cuir / Tissu</td>\n",
              "      <td>Rigide</td>\n",
              "      <td>oui</td>\n",
              "    </tr>\n",
              "  </tbody>\n",
              "</table>\n",
              "<p>5 rows × 82 columns</p>\n",
              "</div>"
            ],
            "text/plain": [
              "  Brand          Model               Price           Moteur  Energie  \\\n",
              "0  ALFA   ROMEO Giulia  455.000 DH * promo  2.2 JTD 190 TCT   Diesel   \n",
              "1  ALFA   ROMEO Giulia  510.000 DH * promo  2.2 JTD 190 TCT   Diesel   \n",
              "2  ALFA   ROMEO Giulia  910.000 DH * promo   2.9 V6 510 AT8  Essence   \n",
              "3  ALFA  ROMEO Stelvio  505.000 DH * promo  2.2 JTD 190 TCT   Diesel   \n",
              "4  ALFA  ROMEO Stelvio  576.000 DH * promo  2.2 JTD 190 TCT   Diesel   \n",
              "\n",
              "           Architecture  Cylindrée Puissance fiscale Puissance maxi.  \\\n",
              "0  4 cylindres en ligne  2.143 cm³              8 cv          190 ch   \n",
              "1  4 cylindres en ligne  2.143 cm³              8 cv          190 ch   \n",
              "2      6 cylindres en V  2.891 cm³             17 cv          510 ch   \n",
              "3           4 cylindres  2.143 cm³              9 cv          190 ch   \n",
              "4           4 cylindres  2.143 cm³              9 cv          190 ch   \n",
              "\n",
              "  Couple maxi.  ... Bluetooth Follow-me home Jantes aluminium Volant cuir  \\\n",
              "0       450 Nm  ...       oui            oui        17 pouces         oui   \n",
              "1       450 Nm  ...       oui            oui        18 pouces         oui   \n",
              "2       600 Nm  ...       oui            oui        19 pouces         oui   \n",
              "3       450 Nm  ...       oui            oui        18 pouces         oui   \n",
              "4       450 Nm  ...       oui            oui        19 pouces         oui   \n",
              "\n",
              "  Feux de jour Phares à LED Vitres sur-teintées           Sellerie  \\\n",
              "0          oui          non                 oui  Cuir / Similicuir   \n",
              "1          oui          non                 oui       Cuir / Tissu   \n",
              "2          oui          non                 oui    Cuir / Alcantra   \n",
              "3          oui          non                 oui       Cuir / Tissu   \n",
              "4          oui          non                 oui       Cuir / Tissu   \n",
              "\n",
              "                  Toit Barres de toit  \n",
              "0               Rigide            non  \n",
              "1  Panoramique ouvrant            non  \n",
              "2               Rigide            non  \n",
              "3               Rigide            oui  \n",
              "4               Rigide            oui  \n",
              "\n",
              "[5 rows x 82 columns]"
            ]
          },
          "execution_count": 14,
          "metadata": {},
          "output_type": "execute_result"
        }
      ],
      "source": [
        "# check our dataframe\n",
        "new_cars.head()"
      ]
    },
    {
      "cell_type": "markdown",
      "id": "8324f701",
      "metadata": {
        "papermill": {
          "duration": 0.526589,
          "end_time": "2022-04-13T22:39:18.520040",
          "exception": false,
          "start_time": "2022-04-13T22:39:17.993451",
          "status": "completed"
        },
        "tags": [],
        "id": "8324f701"
      },
      "source": [
        "**In this Notebook, we have seen how to scrape new cars data from wandaloo and put them into a csv file**\n",
        "\n",
        "**In the next Notebook we will be doing the same for old cars ( used ones) since the architecture of old cars web pages is a little bit different. Another reason is the huge execution time.**"
      ]
    }
  ],
  "metadata": {
    "kernelspec": {
      "display_name": "Python 3",
      "language": "python",
      "name": "python3"
    },
    "language_info": {
      "codemirror_mode": {
        "name": "ipython",
        "version": 3
      },
      "file_extension": ".py",
      "mimetype": "text/x-python",
      "name": "python",
      "nbconvert_exporter": "python",
      "pygments_lexer": "ipython3",
      "version": "3.7.12"
    },
    "papermill": {
      "default_parameters": {},
      "duration": 6182.662289,
      "end_time": "2022-04-13T22:39:19.962125",
      "environment_variables": {},
      "exception": null,
      "input_path": "__notebook__.ipynb",
      "output_path": "__notebook__.ipynb",
      "parameters": {},
      "start_time": "2022-04-13T20:56:17.299836",
      "version": "2.3.3"
    },
    "colab": {
      "provenance": []
    }
  },
  "nbformat": 4,
  "nbformat_minor": 5
}